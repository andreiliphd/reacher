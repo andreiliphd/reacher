{
 "cells": [
  {
   "cell_type": "markdown",
   "metadata": {},
   "source": [
    "# Continuous Control\n",
    "\n",
    "---\n",
    "\n",
    "In this notebook, you will learn how to use the Unity ML-Agents environment for the second project of the [Deep Reinforcement Learning Nanodegree](https://www.udacity.com/course/deep-reinforcement-learning-nanodegree--nd893) program.\n",
    "\n",
    "### 1. Start the Environment\n",
    "\n",
    "We begin by importing the necessary packages.  If the code cell below returns an error, please revisit the project instructions to double-check that you have installed [Unity ML-Agents](https://github.com/Unity-Technologies/ml-agents/blob/master/docs/Installation.md) and [NumPy](http://www.numpy.org/)."
   ]
  },
  {
   "cell_type": "code",
   "execution_count": 1,
   "metadata": {},
   "outputs": [],
   "source": [
    "from unityagents import UnityEnvironment\n",
    "import numpy as np"
   ]
  },
  {
   "cell_type": "markdown",
   "metadata": {},
   "source": [
    "Next, we will start the environment!  **_Before running the code cell below_**, change the `file_name` parameter to match the location of the Unity environment that you downloaded.\n",
    "\n",
    "- **Mac**: `\"path/to/Reacher.app\"`\n",
    "- **Windows** (x86): `\"path/to/Reacher_Windows_x86/Reacher.exe\"`\n",
    "- **Windows** (x86_64): `\"path/to/Reacher_Windows_x86_64/Reacher.exe\"`\n",
    "- **Linux** (x86): `\"path/to/Reacher_Linux/Reacher.x86\"`\n",
    "- **Linux** (x86_64): `\"path/to/Reacher_Linux/Reacher.x86_64\"`\n",
    "- **Linux** (x86, headless): `\"path/to/Reacher_Linux_NoVis/Reacher.x86\"`\n",
    "- **Linux** (x86_64, headless): `\"path/to/Reacher_Linux_NoVis/Reacher.x86_64\"`\n",
    "\n",
    "For instance, if you are using a Mac, then you downloaded `Reacher.app`.  If this file is in the same folder as the notebook, then the line below should appear as follows:\n",
    "```\n",
    "env = UnityEnvironment(file_name=\"Reacher.app\")\n",
    "```"
   ]
  },
  {
   "cell_type": "code",
   "execution_count": 2,
   "metadata": {},
   "outputs": [
    {
     "name": "stderr",
     "output_type": "stream",
     "text": [
      "INFO:unityagents:\n",
      "'Academy' started successfully!\n",
      "Unity Academy name: Academy\n",
      "        Number of Brains: 1\n",
      "        Number of External Brains : 1\n",
      "        Lesson number : 0\n",
      "        Reset Parameters :\n",
      "\t\tgoal_speed -> 1.0\n",
      "\t\tgoal_size -> 5.0\n",
      "Unity brain name: ReacherBrain\n",
      "        Number of Visual Observations (per agent): 0\n",
      "        Vector Observation space type: continuous\n",
      "        Vector Observation space size (per agent): 33\n",
      "        Number of stacked Vector Observation: 1\n",
      "        Vector Action space type: continuous\n",
      "        Vector Action space size (per agent): 4\n",
      "        Vector Action descriptions: , , , \n"
     ]
    }
   ],
   "source": [
    "env = UnityEnvironment(file_name='Reacher_Windows_x86_64/Reacher.exe')"
   ]
  },
  {
   "cell_type": "markdown",
   "metadata": {},
   "source": [
    "Environments contain **_brains_** which are responsible for deciding the actions of their associated agents. Here we check for the first brain available, and set it as the default brain we will be controlling from Python."
   ]
  },
  {
   "cell_type": "code",
   "execution_count": 3,
   "metadata": {},
   "outputs": [],
   "source": [
    "# get the default brain\n",
    "brain_name = env.brain_names[0]\n",
    "brain = env.brains[brain_name]"
   ]
  },
  {
   "cell_type": "markdown",
   "metadata": {},
   "source": [
    "### 2. Examine the State and Action Spaces\n",
    "\n",
    "In this environment, a double-jointed arm can move to target locations. A reward of `+0.1` is provided for each step that the agent's hand is in the goal location. Thus, the goal of your agent is to maintain its position at the target location for as many time steps as possible.\n",
    "\n",
    "The observation space consists of `33` variables corresponding to position, rotation, velocity, and angular velocities of the arm.  Each action is a vector with four numbers, corresponding to torque applicable to two joints.  Every entry in the action vector must be a number between `-1` and `1`.\n",
    "\n",
    "Run the code cell below to print some information about the environment."
   ]
  },
  {
   "cell_type": "code",
   "execution_count": 4,
   "metadata": {},
   "outputs": [
    {
     "name": "stdout",
     "output_type": "stream",
     "text": [
      "Number of agents: 20\n",
      "Size of each action: 4\n",
      "There are 20 agents. Each observes a state with length: 33\n",
      "The state for the first agent looks like: [ 0.00000000e+00 -4.00000000e+00  0.00000000e+00  1.00000000e+00\n",
      " -0.00000000e+00 -0.00000000e+00 -4.37113883e-08  0.00000000e+00\n",
      "  0.00000000e+00  0.00000000e+00  0.00000000e+00  0.00000000e+00\n",
      "  0.00000000e+00  0.00000000e+00 -1.00000000e+01  0.00000000e+00\n",
      "  1.00000000e+00 -0.00000000e+00 -0.00000000e+00 -4.37113883e-08\n",
      "  0.00000000e+00  0.00000000e+00  0.00000000e+00  0.00000000e+00\n",
      "  0.00000000e+00  0.00000000e+00  5.75471878e+00 -1.00000000e+00\n",
      "  5.55726624e+00  0.00000000e+00  1.00000000e+00  0.00000000e+00\n",
      " -1.68164849e-01]\n"
     ]
    }
   ],
   "source": [
    "# reset the environment\n",
    "env_info = env.reset(train_mode=True)[brain_name]\n",
    "\n",
    "# number of agents\n",
    "num_agents = len(env_info.agents)\n",
    "print('Number of agents:', num_agents)\n",
    "\n",
    "# size of each action\n",
    "action_size = brain.vector_action_space_size\n",
    "print('Size of each action:', action_size)\n",
    "\n",
    "# examine the state space \n",
    "states = env_info.vector_observations\n",
    "state_size = states.shape[1]\n",
    "print('There are {} agents. Each observes a state with length: {}'.format(states.shape[0], state_size))\n",
    "print('The state for the first agent looks like:', states[0])"
   ]
  },
  {
   "cell_type": "markdown",
   "metadata": {},
   "source": [
    "### 3. Take Random Actions in the Environment\n",
    "\n",
    "In the next code cell, you will learn how to use the Python API to control the agent and receive feedback from the environment.\n",
    "\n",
    "Once this cell is executed, you will watch the agent's performance, if it selects an action at random with each time step.  A window should pop up that allows you to observe the agent, as it moves through the environment.  \n",
    "\n",
    "Of course, as part of the project, you'll have to change the code so that the agent is able to use its experience to gradually choose better actions when interacting with the environment!"
   ]
  },
  {
   "cell_type": "code",
   "execution_count": 6,
   "metadata": {},
   "outputs": [
    {
     "name": "stdout",
     "output_type": "stream",
     "text": [
      "Total score (averaged over agents) this episode: 0.07699999827891588\n"
     ]
    }
   ],
   "source": [
    "env_info = env.reset(train_mode=False)[brain_name]     # reset the environment    \n",
    "states = env_info.vector_observations                  # get the current state (for each agent)\n",
    "scores = np.zeros(num_agents)                          # initialize the score (for each agent)\n",
    "while True:\n",
    "    actions = np.random.randn(num_agents, action_size) # select an action (for each agent)\n",
    "    actions = np.clip(actions, -1, 1)                  # all actions between -1 and 1\n",
    "    env_info = env.step(actions)[brain_name]           # send all actions to tne environment\n",
    "    next_states = env_info.vector_observations         # get next state (for each agent)\n",
    "    rewards = env_info.rewards                         # get reward (for each agent)\n",
    "    dones = env_info.local_done                        # see if episode finished\n",
    "    scores += env_info.rewards                         # update the score (for each agent)\n",
    "    states = next_states                               # roll over states to next time step\n",
    "    if np.any(dones):                                  # exit loop if episode finished\n",
    "        break\n",
    "print('Total score (averaged over agents) this episode: {}'.format(np.mean(scores)))"
   ]
  },
  {
   "cell_type": "markdown",
   "metadata": {},
   "source": [
    "When finished, you can close the environment."
   ]
  },
  {
   "cell_type": "code",
   "execution_count": null,
   "metadata": {},
   "outputs": [],
   "source": [
    "env.close()"
   ]
  },
  {
   "cell_type": "markdown",
   "metadata": {},
   "source": [
    "### 4. It's Your Turn!\n",
    "\n",
    "Now it's your turn to train your own agent to solve the environment!  When training the environment, set `train_mode=True`, so that the line for resetting the environment looks like the following:\n",
    "```python\n",
    "env_info = env.reset(train_mode=True)[brain_name]\n",
    "```"
   ]
  },
  {
   "cell_type": "markdown",
   "metadata": {},
   "source": [
    "### Implementation details\n",
    "\n",
    "`experiences = random.choices(self.memory, k=self.batch_size)` - randomness with replacement is a key for success of DDPG implementation.\n",
    "\n"
   ]
  },
  {
   "cell_type": "markdown",
   "metadata": {},
   "source": [
    "#### 4.1 Importing libraries"
   ]
  },
  {
   "cell_type": "code",
   "execution_count": 1,
   "metadata": {},
   "outputs": [],
   "source": [
    "import datetime\n",
    "import time\n",
    "import random\n",
    "import copy\n",
    "from collections import namedtuple, deque\n",
    "from unityagents import UnityEnvironment\n",
    "import numpy as np\n",
    "import torch\n",
    "import torch.nn as nn\n",
    "import torch.nn.functional as F\n",
    "import torch.optim as optim"
   ]
  },
  {
   "cell_type": "markdown",
   "metadata": {},
   "source": [
    "#### 4.2 Starting environment"
   ]
  },
  {
   "cell_type": "code",
   "execution_count": 2,
   "metadata": {},
   "outputs": [
    {
     "name": "stderr",
     "output_type": "stream",
     "text": [
      "INFO:unityagents:\n",
      "'Academy' started successfully!\n",
      "Unity Academy name: Academy\n",
      "        Number of Brains: 1\n",
      "        Number of External Brains : 1\n",
      "        Lesson number : 0\n",
      "        Reset Parameters :\n",
      "\t\tgoal_speed -> 1.0\n",
      "\t\tgoal_size -> 5.0\n",
      "Unity brain name: ReacherBrain\n",
      "        Number of Visual Observations (per agent): 0\n",
      "        Vector Observation space type: continuous\n",
      "        Vector Observation space size (per agent): 33\n",
      "        Number of stacked Vector Observation: 1\n",
      "        Vector Action space type: continuous\n",
      "        Vector Action space size (per agent): 4\n",
      "        Vector Action descriptions: , , , \n"
     ]
    }
   ],
   "source": [
    "env = UnityEnvironment(file_name='Reacher_Windows_x86_64/Reacher.exe')"
   ]
  },
  {
   "cell_type": "markdown",
   "metadata": {},
   "source": [
    "#### 4.3 Setting parameters"
   ]
  },
  {
   "cell_type": "code",
   "execution_count": 3,
   "metadata": {},
   "outputs": [],
   "source": [
    "BUFFER_SIZE = int(5e5)  # replay buffer size\n",
    "BATCH_SIZE = 256        # minibatch size\n",
    "GAMMA = 0.99            # discount factor\n",
    "TAU = 1e-3              # for soft update of target parameters\n",
    "LR_ACTOR = 1e-3         # learning rate of the actor \n",
    "LR_CRITIC = 1e-3        # learning rate of the critic\n",
    "WEIGHT_DECAY = 0        # L2 weight decay\n",
    "\n",
    "device = \"cpu\""
   ]
  },
  {
   "cell_type": "markdown",
   "metadata": {},
   "source": [
    "#### 4.4 Getting data about an environment"
   ]
  },
  {
   "cell_type": "code",
   "execution_count": 4,
   "metadata": {},
   "outputs": [],
   "source": [
    "# get the default brain\n",
    "brain_name = env.brain_names[0]\n",
    "brain = env.brains[brain_name]"
   ]
  },
  {
   "cell_type": "markdown",
   "metadata": {},
   "source": [
    "####  4.5 Creating `class Actor` that will act on behalf of the agent"
   ]
  },
  {
   "cell_type": "code",
   "execution_count": 5,
   "metadata": {},
   "outputs": [],
   "source": [
    "def hidden_init(layer):\n",
    "    fan_in = layer.weight.data.size()[0]\n",
    "    lim = 1. / np.sqrt(fan_in)\n",
    "    return (-lim, lim)\n",
    "\n",
    "class Actor(nn.Module):\n",
    "    \"\"\"Actor (Policy) Model.\"\"\"\n",
    "\n",
    "    def __init__(self, state_size, action_size, seed, fc1_units=128, fc2_units=128):\n",
    "        \"\"\"Initialize parameters and build model.\n",
    "        Params\n",
    "        ======\n",
    "            state_size (int): Dimension of each state\n",
    "            action_size (int): Dimension of each action\n",
    "            seed (int): Random seed\n",
    "            fc1_units (int): Number of nodes in first hidden layer\n",
    "            fc2_units (int): Number of nodes in second hidden layer\n",
    "        \"\"\"\n",
    "        super(Actor, self).__init__()\n",
    "        self.seed = torch.manual_seed(seed)\n",
    "        self.fc1 = nn.Linear(state_size, fc1_units)\n",
    "        self.fc2 = nn.Linear(fc1_units, fc2_units)\n",
    "        self.fc3 = nn.Linear(fc2_units, action_size)\n",
    "        self.reset_parameters()\n",
    "\n",
    "    def reset_parameters(self):\n",
    "        self.fc1.weight.data.uniform_(*hidden_init(self.fc1))\n",
    "        self.fc2.weight.data.uniform_(*hidden_init(self.fc2))\n",
    "        self.fc3.weight.data.uniform_(-3e-3, 3e-3)\n",
    "\n",
    "    def forward(self, state):\n",
    "        \"\"\"Build an actor (policy) network that maps states -> actions.\"\"\"\n",
    "        x = F.relu(self.fc1(state))\n",
    "        x = F.relu(self.fc2(x))\n",
    "        return F.tanh(self.fc3(x))"
   ]
  },
  {
   "cell_type": "markdown",
   "metadata": {},
   "source": [
    "####  4.5 Creating `class Critic` which \"criticize\" our `class Actor`"
   ]
  },
  {
   "cell_type": "code",
   "execution_count": 6,
   "metadata": {},
   "outputs": [],
   "source": [
    "class Critic(nn.Module):\n",
    "    \"\"\"Critic (Value) Model.\"\"\"\n",
    "\n",
    "    def __init__(self, state_size, action_size, seed, fcs1_units=128, fc2_units=128):\n",
    "        \"\"\"Initialize parameters and build model.\n",
    "        Params\n",
    "        ======\n",
    "            state_size (int): Dimension of each state\n",
    "            action_size (int): Dimension of each action\n",
    "            seed (int): Random seed\n",
    "            fcs1_units (int): Number of nodes in the first hidden layer\n",
    "            fc2_units (int): Number of nodes in the second hidden layer\n",
    "        \"\"\"\n",
    "        super(Critic, self).__init__()\n",
    "        self.seed = torch.manual_seed(seed)\n",
    "        self.fcs1 = nn.Linear(state_size, fcs1_units)\n",
    "        self.fc2 = nn.Linear(fcs1_units+action_size, fc2_units)\n",
    "        self.fc3 = nn.Linear(fc2_units, 1)\n",
    "        self.reset_parameters()\n",
    "\n",
    "    def reset_parameters(self):\n",
    "        self.fcs1.weight.data.uniform_(*hidden_init(self.fcs1))\n",
    "        self.fc2.weight.data.uniform_(*hidden_init(self.fc2))\n",
    "        self.fc3.weight.data.uniform_(-3e-3, 3e-3)\n",
    "\n",
    "    def forward(self, state, action):\n",
    "        \"\"\"Build a critic (value) network that maps (state, action) pairs -> Q-values.\"\"\"\n",
    "        xs = F.relu(self.fcs1(state))\n",
    "        x = torch.cat((xs, action), dim=1)\n",
    "        x = F.relu(self.fc2(x))\n",
    "        return self.fc3(x)"
   ]
  },
  {
   "cell_type": "markdown",
   "metadata": {},
   "source": [
    "#### 4.6 Creating `class Agent` that will represent our agent\n",
    "\n",
    "The most important component is a method `learn`:\n",
    "\n",
    "Instanstiating actors.\n",
    "```\n",
    "self.actor_local = Actor(state_size, action_size, random_seed).to(device)\n",
    "self.actor_target = Actor(state_size, action_size, random_seed).to(device)\n",
    "self.actor_optimizer = optim.Adam(self.actor_local.parameters(), lr=LR_ACTOR)\n",
    "```\n",
    "Instanstiating critics.\n",
    "```\n",
    "self.critic_local = Critic(state_size, action_size, random_seed).to(device)\n",
    "self.critic_target = Critic(state_size, action_size, random_seed).to(device)\n",
    "self.critic_optimizer = optim.Adam(self.critic_local.parameters(), lr=LR_CRITIC, weight_decay=WEIGHT_DECAY)\n",
    "```\n",
    "\n",
    "`actions_next = self.actor_target(next_states)` - getting target actions.\n",
    "\n",
    "`Q_targets_next = self.critic_target(next_states, actions_next)` - getting target Q value.\n",
    "\n",
    "`Q_targets = rewards + (gamma * Q_targets_next * (1 - dones))` - getting updated target Q value.\n",
    "\n",
    "`Q_expected = self.critic_local(states, actions)` - getting current Q value.\n",
    "\n",
    "`critic_loss = F.mse_loss(Q_expected, Q_targets)` - decreasing difference between current Q value and updated target Q value.\n",
    "\n",
    "`actions_pred = self.actor_local(states)` - getting current actions.\n",
    "\n",
    "`actor_loss = -self.critic_local(states, actions_pred).mean()` - updating `critic_local`. Increasing Q values using gradient ascent.\n",
    "\n",
    "Making target closer to local with coefficient TAU.\n",
    "\n",
    "```\n",
    "self.soft_update(self.critic_local, self.critic_target, TAU)\n",
    "self.soft_update(self.actor_local, self.actor_target, TAU)                     \n",
    "```\n",
    "\n",
    "`self.epsilon -= self.epsilon_decay` - decreasing exploration exploitation rate."
   ]
  },
  {
   "cell_type": "code",
   "execution_count": 7,
   "metadata": {},
   "outputs": [],
   "source": [
    "class Agent():\n",
    "    \"\"\"Interacts with and learns from the environment.\"\"\"\n",
    "    \n",
    "    def __init__(self, state_size, action_size, random_seed, epsilon=1.0, epsilon_decay=1e-6):\n",
    "        \"\"\"Initialize an Agent object.\n",
    "        \n",
    "        Params\n",
    "        ======\n",
    "            state_size (int): dimension of each state\n",
    "            action_size (int): dimension of each action\n",
    "            random_seed (int): random seed\n",
    "        \"\"\"\n",
    "        self.epsilon = epsilon\n",
    "        self.epsilon_decay = epsilon_decay\n",
    "        \n",
    "        self.state_size = state_size\n",
    "        self.action_size = action_size\n",
    "        self.seed = random.seed(random_seed)\n",
    "\n",
    "        # Actor Network (w/ Target Network)\n",
    "        self.actor_local = Actor(state_size, action_size, random_seed).to(device)\n",
    "        self.actor_target = Actor(state_size, action_size, random_seed).to(device)\n",
    "        self.actor_optimizer = optim.Adam(self.actor_local.parameters(), lr=LR_ACTOR)\n",
    "\n",
    "        # Critic Network (w/ Target Network)\n",
    "        self.critic_local = Critic(state_size, action_size, random_seed).to(device)\n",
    "        self.critic_target = Critic(state_size, action_size, random_seed).to(device)\n",
    "        self.critic_optimizer = optim.Adam(self.critic_local.parameters(), lr=LR_CRITIC, weight_decay=WEIGHT_DECAY)\n",
    "        # Noise process\n",
    "        self.noise = OUNoise(action_size, random_seed)\n",
    "\n",
    "        # Replay memory\n",
    "        self.memory = ReplayBuffer(action_size, BUFFER_SIZE, BATCH_SIZE, random_seed)\n",
    "#         self.cache = ReplayBuffer(action_size, int(6e4), BATCH_SIZE, random_seed)\n",
    "        \n",
    "        \n",
    "        for target_param, param in zip(self.actor_target.parameters(), self.actor_local.parameters()):\n",
    "            target_param.data.copy_(param.data)\n",
    "        for target_param, param in zip(self.critic_target.parameters(), self.critic_local.parameters()):\n",
    "            target_param.data.copy_(param.data)\n",
    "\n",
    "    \n",
    "    def step(self, state, action, reward, next_state, done, epoch):\n",
    "        \"\"\"Save experience in replay memory, and use random sample from buffer to learn.\"\"\"\n",
    "        # Save experience / reward\n",
    "#         self.memory.add(state, action, reward, next_state, done)\n",
    "#         for states, actions, rewards, next_states, dones in zip(state, action, reward, next_state, done):\n",
    "#           self.memory.add(states, actions, rewards, next_states, dones)\n",
    "        self.memory.add(state, action, reward, next_state, done)\n",
    "\n",
    "#             self.cache.add(states, actions, rewards, next_states, dones)\n",
    "            \n",
    "\n",
    "        # Learn, if enough samples are available in memory\n",
    "        if len(self.memory) > BATCH_SIZE and epoch % 20 == 0:\n",
    "            for num in range(18):\n",
    "                experiences = self.memory.sample()\n",
    "                self.learn(experiences, GAMMA)\n",
    "#             for num in range(3):\n",
    "#                 experiences = self.cache.sample()\n",
    "#                 self.learn(experiences, GAMMA)\n",
    "\n",
    "    def act(self, state, add_noise=True):\n",
    "        \"\"\"Returns actions for given state as per current policy.\"\"\"\n",
    "        state = torch.from_numpy(state).float().to(device)\n",
    "        self.actor_local.eval()\n",
    "        with torch.no_grad():\n",
    "            action = self.actor_local(state).cpu().data.numpy()\n",
    "        self.actor_local.train()\n",
    "        if add_noise:\n",
    "            action += self.epsilon * self.noise.sample()\n",
    "        return action\n",
    "\n",
    "    def reset(self):\n",
    "        self.noise.reset()\n",
    "\n",
    "    def learn(self, experiences, gamma):\n",
    "        \"\"\"Update policy and value parameters using given batch of experience tuples.\n",
    "        Q_targets = r + γ * critic_target(next_state, actor_target(next_state))\n",
    "        where:\n",
    "            actor_target(state) -> action\n",
    "            critic_target(state, action) -> Q-value\n",
    "\n",
    "        Params\n",
    "        ======\n",
    "            experiences (Tuple[torch.Tensor]): tuple of (s, a, r, s', done) tuples \n",
    "            gamma (float): discount factor\n",
    "        \"\"\"\n",
    "        states, actions, rewards, next_states, dones = experiences\n",
    "\n",
    "        # ---------------------------- update critic ---------------------------- #\n",
    "        # Get predicted next-state actions and Q values from target models\n",
    "        actions_next = self.actor_target(next_states)\n",
    "        Q_targets_next = self.critic_target(next_states, actions_next)\n",
    "        # Compute Q targets for current states (y_i)\n",
    "        Q_targets = rewards + (gamma * Q_targets_next * (1 - dones))\n",
    "        # Compute critic loss\n",
    "        Q_expected = self.critic_local(states, actions)\n",
    "        critic_loss = F.mse_loss(Q_expected, Q_targets)\n",
    "        # Minimize the loss\n",
    "\n",
    "        self.critic_optimizer.zero_grad()\n",
    "        critic_loss.backward()\n",
    "        torch.nn.utils.clip_grad_norm_(self.critic_local.parameters(), 1)\n",
    "        self.critic_optimizer.step()\n",
    "\n",
    "        # ---------------------------- update actor ---------------------------- #\n",
    "        # Compute actor loss\n",
    "        actions_pred = self.actor_local(states)\n",
    "        actor_loss = -self.critic_local(states, actions_pred).mean()\n",
    "        # Minimize the loss\n",
    "        self.actor_optimizer.zero_grad()\n",
    "        actor_loss.backward()\n",
    "        self.actor_optimizer.step()\n",
    "\n",
    "        # ----------------------- update target networks ----------------------- #\n",
    "        self.soft_update(self.critic_local, self.critic_target, TAU)\n",
    "        self.soft_update(self.actor_local, self.actor_target, TAU)                     \n",
    "        self.epsilon -= self.epsilon_decay\n",
    "        self.noise.reset()\n",
    "\n",
    "\n",
    "    def soft_update(self, local_model, target_model, tau):\n",
    "        \"\"\"Soft update model parameters.\n",
    "        θ_target = τ*θ_local + (1 - τ)*θ_target\n",
    "\n",
    "        Params\n",
    "        ======\n",
    "            local_model: PyTorch model (weights will be copied from)\n",
    "            target_model: PyTorch model (weights will be copied to)\n",
    "            tau (float): interpolation parameter \n",
    "        \"\"\"\n",
    "        for target_param, local_param in zip(target_model.parameters(), local_model.parameters()):\n",
    "            target_param.data.copy_(tau*local_param.data + (1.0-tau)*target_param.data)"
   ]
  },
  {
   "cell_type": "markdown",
   "metadata": {},
   "source": [
    "#### 4.7 Noise\n",
    "\n",
    "One of the key components of DDPG. Ornstein-Uhlenbeck makes exploration more effective."
   ]
  },
  {
   "cell_type": "code",
   "execution_count": 8,
   "metadata": {},
   "outputs": [],
   "source": [
    "class OUNoise:\n",
    "    \"\"\"Ornstein-Uhlenbeck process.\"\"\"\n",
    "\n",
    "    def __init__(self, size, seed, mu=0., theta=0.15, sigma=0.05):\n",
    "        \"\"\"Initialize parameters and noise process.\"\"\"\n",
    "        self.mu = mu * np.ones(size)\n",
    "        self.theta = theta\n",
    "        self.sigma = sigma\n",
    "        self.seed = random.seed(seed)\n",
    "        self.reset()\n",
    "\n",
    "    def reset(self):\n",
    "        \"\"\"Reset the internal state (= noise) to mean (mu).\"\"\"\n",
    "        self.state = copy.copy(self.mu)\n",
    "\n",
    "    def sample(self):\n",
    "        \"\"\"Update internal state and return it as a noise sample.\"\"\"\n",
    "        x = self.state\n",
    "        dx = self.theta * (self.mu - x) + self.sigma * np.array([random.random() for i in range(len(x))])\n",
    "        self.state = x + dx\n",
    "        return self.state"
   ]
  },
  {
   "cell_type": "markdown",
   "metadata": {},
   "source": [
    "#### 4.8 Replay buffer"
   ]
  },
  {
   "cell_type": "code",
   "execution_count": 9,
   "metadata": {},
   "outputs": [],
   "source": [
    "class ReplayBuffer:\n",
    "    \"\"\"Fixed-size buffer to store experience tuples.\"\"\"\n",
    "\n",
    "    def __init__(self, action_size, buffer_size, batch_size, seed):\n",
    "        \"\"\"Initialize a ReplayBuffer object.\n",
    "        Params\n",
    "        ======\n",
    "            buffer_size (int): maximum size of buffer\n",
    "            batch_size (int): size of each training batch\n",
    "        \"\"\"\n",
    "        self.action_size = action_size\n",
    "        self.memory = deque(maxlen=buffer_size)  # internal memory (deque)\n",
    "        self.batch_size = batch_size\n",
    "        self.experience = namedtuple(\"Experience\", field_names=[\"state\", \"action\", \"reward\", \"next_state\", \"done\"])\n",
    "        self.seed = random.seed(seed)\n",
    "    \n",
    "    def add(self, state, action, reward, next_state, done):\n",
    "        \"\"\"Add a new experience to memory.\"\"\"   \n",
    "        for num in range(20):\n",
    "            e = self.experience(state[num], action[num], reward[num], next_state[num], done[num])\n",
    "            self.memory.append(e)\n",
    "\n",
    "    def sample(self):\n",
    "        \"\"\"Randomly sample a batch of experiences from memory.\"\"\"\n",
    "        \n",
    "        experiences = random.choices(self.memory, k=self.batch_size)        \n",
    "        states = torch.from_numpy(np.vstack([e.state for e in experiences if e is not None])).float().to(device)\n",
    "        actions = torch.from_numpy(np.vstack([e.action for e in experiences if e is not None])).float().to(device)\n",
    "        rewards = torch.from_numpy(np.vstack([e.reward for e in experiences if e is not None])).float().to(device)\n",
    "        next_states = torch.from_numpy(np.vstack([e.next_state for e in experiences if e is not None])).float().to(device)\n",
    "        dones = torch.from_numpy(np.vstack([e.done for e in experiences if e is not None]).astype(np.uint8)).float().to(device)\n",
    "\n",
    "        return (states, actions, rewards, next_states, dones)\n",
    "\n",
    "    def __len__(self):\n",
    "        \"\"\"Return the current size of internal memory.\"\"\"\n",
    "        return len(self.memory)"
   ]
  },
  {
   "cell_type": "markdown",
   "metadata": {},
   "source": [
    "#### 4.9 Instanstiating `class Agent`"
   ]
  },
  {
   "cell_type": "code",
   "execution_count": 10,
   "metadata": {},
   "outputs": [],
   "source": [
    "agent = Agent(state_size=33, action_size=4, random_seed=2)"
   ]
  },
  {
   "cell_type": "markdown",
   "metadata": {},
   "source": [
    "#### 5.0 Training loop"
   ]
  },
  {
   "cell_type": "code",
   "execution_count": 11,
   "metadata": {},
   "outputs": [],
   "source": [
    "def ddpg(n_episodes=1000):\n",
    "    print('Start time: ',datetime.datetime.now())\n",
    "    all_agents = np.array([]).reshape(0,20)\n",
    "    start_time = time.time()\n",
    "    print('\\rEP, Min, Max, Average, AV100, Time')\n",
    "    for i_episode in range(1, n_episodes+1):\n",
    "        env_info = env.reset(train_mode=True)[brain_name]      # reset the environment    \n",
    "        states = env_info.vector_observations                  # get the current state (for each agent)\n",
    "        scores = np.zeros(20)                          # initialize the score (for each agent)\n",
    "        agent.reset()\n",
    "        \n",
    "        score_average = 0\n",
    "        timestep = time.time()\n",
    "        for t in range(100000000):\n",
    "            actions = agent.act(states, add_noise=True)\n",
    "            env_info = env.step(actions)[brain_name]           # send all actions to tne environment\n",
    "            next_states = env_info.vector_observations         # get next state (for each agent)\n",
    "            rewards = env_info.rewards                         # get reward (for each agent)\n",
    "            dones = env_info.local_done                        # see if episode finished            \n",
    "            agent.step(states, actions, rewards, next_states, dones,t)\n",
    "            states = next_states                               # roll over states to next time step\n",
    "            scores += rewards                                  # update the score (for each agent)           \n",
    "            if np.any(dones):                                  # exit loop if episode finished\n",
    "                break\n",
    "        \n",
    "        all_agents = np.concatenate((all_agents, scores.reshape(1,20)), axis=0)\n",
    "        mean_100 = np.mean(all_agents[-101:-1], axis=0)      \n",
    "        print('{}, {:.2f}, {:.2f}, {:.2f}, {:.2f}, {:.2f}'\\\n",
    "              .format(str(i_episode).zfill(3), np.min(scores), np.max(scores), np.mean(scores), float(np.mean(mean_100)), \n",
    "                      time.time() - timestep), end=\"\\n\")                                   \n",
    "        if  np.all(mean_100 > 30.0):            \n",
    "            end_time = time.time()\n",
    "            print('\\nSolved in {:d} episodes!\\tAvg Score: {:.2f}, time: {}'.format(i_episode, float(np.mean(mean_100)), \n",
    "                                                                                   end_time-start_time))\n",
    "            for num, scr in enumerate(mean_100):\n",
    "                print('Agent {} average: {:.2f} '.format(num+1, scr))        \n",
    "            torch.save(agent.actor_local.state_dict(), 'checkpoint_actor.pth')\n",
    "            torch.save(agent.critic_local.state_dict(), 'checkpoint_critic.pth')\n",
    "            print('End time: ',datetime.datetime.now())    \n",
    "            return all_agents         \n"
   ]
  },
  {
   "cell_type": "markdown",
   "metadata": {},
   "source": [
    "#### 5.1 Training"
   ]
  },
  {
   "cell_type": "code",
   "execution_count": 12,
   "metadata": {},
   "outputs": [
    {
     "name": "stdout",
     "output_type": "stream",
     "text": [
      "Start time:  2019-08-12 21:10:10.629150\n",
      "\r",
      "EP, Min, Max, Average, AV100, Time\n"
     ]
    },
    {
     "name": "stderr",
     "output_type": "stream",
     "text": [
      "C:\\Users\\andreiliphd\\Anaconda3\\envs\\drlnd\\lib\\site-packages\\numpy\\core\\fromnumeric.py:3118: RuntimeWarning: Mean of empty slice.\n",
      "  out=out, **kwargs)\n",
      "C:\\Users\\andreiliphd\\Anaconda3\\envs\\drlnd\\lib\\site-packages\\numpy\\core\\_methods.py:78: RuntimeWarning: invalid value encountered in true_divide\n",
      "  ret, rcount, out=ret, casting='unsafe', subok=False)\n",
      "C:\\Users\\andreiliphd\\Anaconda3\\envs\\drlnd\\lib\\site-packages\\ipykernel_launcher.py:31: RuntimeWarning: invalid value encountered in greater\n"
     ]
    },
    {
     "name": "stdout",
     "output_type": "stream",
     "text": [
      "001, 0.00, 1.69, 0.47, nan, 12.37\n",
      "002, 0.00, 0.21, 0.06, 0.47, 12.07\n",
      "003, 0.00, 1.16, 0.17, 0.26, 12.21\n",
      "004, 0.00, 0.65, 0.10, 0.23, 12.31\n",
      "005, 0.00, 1.96, 0.28, 0.20, 12.38\n",
      "006, 0.00, 0.90, 0.27, 0.22, 13.00\n",
      "007, 0.00, 0.90, 0.38, 0.22, 13.01\n",
      "008, 0.43, 2.27, 1.20, 0.25, 13.18\n",
      "009, 0.72, 2.30, 1.24, 0.37, 13.35\n",
      "010, 0.60, 2.59, 1.49, 0.46, 13.46\n",
      "011, 0.61, 2.57, 1.42, 0.57, 13.47\n",
      "012, 0.45, 4.85, 1.54, 0.64, 13.87\n",
      "013, 0.00, 2.52, 1.28, 0.72, 14.03\n",
      "014, 0.00, 3.81, 1.62, 0.76, 14.26\n",
      "015, 0.16, 3.45, 1.69, 0.82, 14.52\n",
      "016, 0.66, 4.14, 2.00, 0.88, 15.21\n",
      "017, 0.47, 3.93, 2.18, 0.95, 15.48\n",
      "018, 0.54, 3.93, 1.79, 1.02, 15.56\n",
      "019, 1.11, 3.71, 2.51, 1.07, 15.83\n",
      "020, 1.21, 4.15, 2.29, 1.14, 16.04\n",
      "021, 0.95, 5.42, 3.38, 1.20, 16.13\n",
      "022, 1.49, 4.41, 2.90, 1.30, 16.40\n",
      "023, 0.81, 4.72, 2.73, 1.38, 16.37\n",
      "024, 0.53, 6.13, 3.31, 1.43, 16.72\n",
      "025, 0.35, 4.87, 2.52, 1.51, 17.22\n",
      "026, 0.64, 6.78, 2.74, 1.55, 17.32\n",
      "027, 1.14, 5.31, 3.21, 1.60, 17.36\n",
      "028, 1.50, 7.55, 3.99, 1.66, 17.28\n",
      "029, 0.65, 6.42, 3.20, 1.74, 17.57\n",
      "030, 1.09, 8.87, 4.69, 1.79, 17.46\n",
      "031, 2.03, 6.89, 4.16, 1.89, 17.56\n",
      "032, 1.74, 6.62, 3.86, 1.96, 17.87\n",
      "033, 2.63, 7.86, 5.08, 2.02, 17.83\n",
      "034, 2.01, 8.74, 4.97, 2.11, 17.82\n",
      "035, 2.02, 9.46, 6.21, 2.20, 17.70\n",
      "036, 3.59, 10.80, 7.10, 2.31, 17.68\n",
      "037, 1.44, 18.65, 7.28, 2.45, 17.81\n",
      "038, 3.05, 11.94, 8.19, 2.58, 17.65\n",
      "039, 2.60, 10.95, 6.57, 2.72, 17.85\n",
      "040, 3.78, 15.61, 9.04, 2.82, 17.71\n",
      "041, 3.50, 15.97, 8.43, 2.98, 17.83\n",
      "042, 4.01, 16.52, 9.49, 3.11, 17.63\n",
      "043, 2.19, 16.30, 10.47, 3.26, 17.58\n",
      "044, 4.18, 15.49, 9.50, 3.43, 17.72\n",
      "045, 3.91, 15.52, 10.84, 3.57, 17.82\n",
      "046, 3.11, 20.63, 10.36, 3.73, 18.45\n",
      "047, 7.19, 21.93, 12.95, 3.87, 17.63\n",
      "048, 5.61, 18.83, 12.83, 4.07, 17.43\n",
      "049, 6.00, 20.54, 12.99, 4.25, 17.75\n",
      "050, 5.83, 17.45, 12.69, 4.43, 17.72\n",
      "051, 9.59, 22.73, 15.28, 4.59, 17.43\n",
      "052, 8.55, 22.84, 15.20, 4.80, 17.35\n",
      "053, 8.35, 24.88, 16.45, 5.00, 17.48\n",
      "054, 10.46, 22.23, 16.54, 5.22, 17.40\n",
      "055, 10.68, 23.67, 18.08, 5.43, 17.61\n",
      "056, 10.74, 23.39, 17.61, 5.66, 17.58\n",
      "057, 12.37, 23.63, 17.85, 5.87, 17.76\n",
      "058, 14.05, 23.23, 18.30, 6.08, 17.56\n",
      "059, 14.89, 27.22, 18.22, 6.29, 17.55\n",
      "060, 9.20, 23.53, 16.57, 6.50, 17.64\n",
      "061, 12.12, 26.17, 20.31, 6.66, 17.76\n",
      "062, 9.82, 27.78, 19.36, 6.89, 17.80\n",
      "063, 11.09, 26.26, 19.62, 7.09, 17.73\n",
      "064, 13.96, 25.83, 19.56, 7.29, 17.71\n",
      "065, 11.82, 25.19, 18.82, 7.48, 17.74\n",
      "066, 14.86, 30.43, 20.97, 7.65, 17.71\n",
      "067, 11.29, 27.56, 18.65, 7.86, 17.78\n",
      "068, 10.24, 25.60, 19.26, 8.02, 17.83\n",
      "069, 11.39, 28.27, 20.14, 8.18, 17.63\n",
      "070, 10.81, 28.18, 20.71, 8.36, 17.74\n",
      "071, 13.92, 35.56, 22.13, 8.53, 17.97\n",
      "072, 14.99, 28.90, 22.30, 8.72, 18.20\n",
      "073, 9.39, 28.36, 21.65, 8.91, 17.88\n",
      "074, 15.89, 27.23, 24.06, 9.09, 17.85\n",
      "075, 9.31, 27.16, 21.96, 9.29, 17.82\n",
      "076, 12.31, 33.18, 22.40, 9.46, 17.62\n",
      "077, 7.84, 29.90, 19.48, 9.63, 17.65\n",
      "078, 6.76, 31.16, 23.96, 9.76, 17.54\n",
      "079, 8.41, 36.72, 23.50, 9.94, 17.52\n",
      "080, 16.67, 30.35, 24.22, 10.11, 17.42\n",
      "081, 13.67, 31.56, 24.84, 10.29, 17.48\n",
      "082, 10.46, 32.97, 22.46, 10.47, 17.59\n",
      "083, 12.17, 30.28, 22.04, 10.61, 17.69\n",
      "084, 15.68, 28.89, 23.73, 10.75, 17.70\n",
      "085, 15.41, 37.72, 24.55, 10.90, 17.49\n",
      "086, 14.81, 29.72, 23.56, 11.06, 17.46\n",
      "087, 18.26, 30.81, 25.26, 11.21, 17.49\n",
      "088, 18.35, 32.07, 25.39, 11.37, 17.27\n",
      "089, 20.66, 32.81, 26.34, 11.53, 17.58\n",
      "090, 23.38, 36.71, 30.11, 11.70, 17.69\n",
      "091, 17.01, 34.01, 29.07, 11.90, 17.47\n",
      "092, 14.44, 35.39, 27.31, 12.09, 17.71\n",
      "093, 16.32, 36.04, 29.12, 12.26, 17.48\n",
      "094, 20.17, 35.51, 27.12, 12.44, 17.37\n",
      "095, 20.47, 35.41, 28.76, 12.59, 17.32\n",
      "096, 18.79, 35.24, 28.57, 12.76, 17.12\n",
      "097, 20.61, 35.82, 27.94, 12.93, 17.33\n",
      "098, 20.45, 35.18, 29.86, 13.08, 17.10\n",
      "099, 16.72, 35.83, 28.90, 13.25, 17.15\n",
      "100, 18.94, 36.16, 29.58, 13.41, 17.09\n",
      "101, 17.49, 34.28, 27.47, 13.57, 17.13\n",
      "102, 20.54, 39.04, 28.49, 13.84, 17.25\n",
      "103, 26.74, 39.62, 31.55, 14.13, 16.95\n",
      "104, 25.51, 38.98, 30.76, 14.44, 17.45\n",
      "105, 25.22, 37.19, 30.68, 14.75, 17.36\n",
      "106, 16.84, 36.14, 30.74, 15.05, 17.57\n",
      "107, 18.66, 37.82, 27.59, 15.36, 17.35\n",
      "108, 15.80, 37.80, 30.88, 15.63, 17.43\n",
      "109, 15.92, 36.85, 28.09, 15.93, 17.59\n",
      "110, 18.08, 37.15, 28.29, 16.19, 17.58\n",
      "111, 18.66, 37.15, 28.67, 16.46, 17.75\n",
      "112, 23.25, 37.02, 31.62, 16.74, 17.46\n",
      "113, 21.29, 39.07, 34.32, 17.04, 17.53\n",
      "114, 21.06, 39.54, 30.60, 17.37, 17.66\n",
      "115, 25.24, 38.68, 32.54, 17.66, 17.44\n",
      "116, 21.18, 37.86, 31.32, 17.96, 17.40\n",
      "117, 20.61, 36.48, 30.04, 18.26, 17.77\n",
      "118, 17.24, 36.48, 31.48, 18.54, 17.64\n",
      "119, 25.56, 38.76, 31.85, 18.83, 17.29\n",
      "120, 23.32, 39.53, 33.89, 19.13, 17.54\n",
      "121, 21.67, 39.59, 33.53, 19.44, 17.40\n",
      "122, 25.76, 39.05, 34.53, 19.74, 17.38\n",
      "123, 15.50, 39.23, 33.93, 20.06, 17.55\n",
      "124, 29.37, 39.39, 35.19, 20.37, 17.25\n",
      "125, 21.09, 39.60, 34.61, 20.69, 17.54\n",
      "126, 29.32, 39.49, 36.37, 21.01, 17.23\n",
      "127, 35.35, 39.31, 37.83, 21.35, 17.15\n",
      "128, 20.84, 39.56, 35.36, 21.69, 17.20\n",
      "129, 26.26, 39.66, 36.93, 22.01, 17.07\n",
      "130, 18.73, 39.63, 36.22, 22.35, 17.26\n",
      "131, 28.73, 39.61, 37.78, 22.66, 17.24\n",
      "132, 33.09, 39.67, 37.53, 23.00, 17.31\n",
      "133, 25.13, 39.66, 36.66, 23.33, 17.31\n",
      "134, 26.09, 39.38, 37.31, 23.65, 17.31\n",
      "135, 28.21, 39.65, 36.85, 23.97, 17.41\n",
      "136, 32.54, 39.62, 36.98, 24.28, 17.39\n",
      "137, 30.32, 39.58, 35.67, 24.58, 17.56\n",
      "138, 29.89, 39.66, 36.02, 24.86, 17.45\n",
      "139, 29.52, 39.65, 35.36, 25.14, 17.51\n",
      "140, 24.31, 39.57, 35.67, 25.43, 17.55\n",
      "141, 31.41, 39.17, 36.89, 25.69, 17.51\n",
      "142, 32.77, 39.54, 37.10, 25.98, 17.59\n",
      "143, 32.01, 39.10, 36.81, 26.25, 17.36\n",
      "144, 23.34, 39.30, 35.69, 26.52, 17.32\n",
      "145, 31.75, 38.87, 36.44, 26.78, 17.26\n",
      "146, 33.20, 39.02, 36.49, 27.04, 17.38\n",
      "147, 33.21, 38.91, 36.36, 27.30, 17.48\n",
      "148, 31.44, 39.14, 36.26, 27.53, 17.23\n",
      "149, 28.54, 38.90, 35.77, 27.77, 17.38\n",
      "150, 29.19, 38.85, 35.75, 27.99, 17.25\n",
      "151, 33.54, 39.65, 37.39, 28.22, 17.37\n",
      "152, 21.88, 39.51, 35.92, 28.45, 17.33\n",
      "153, 29.00, 39.37, 36.58, 28.65, 17.07\n",
      "154, 30.87, 39.61, 37.55, 28.85, 17.18\n",
      "155, 29.71, 39.55, 37.33, 29.06, 17.17\n",
      "156, 20.55, 39.38, 34.47, 29.26, 17.29\n",
      "157, 21.84, 39.45, 35.95, 29.42, 17.24\n",
      "158, 35.89, 39.53, 38.22, 29.61, 17.77\n",
      "159, 33.55, 39.66, 37.60, 29.81, 17.78\n",
      "160, 32.79, 39.13, 37.11, 30.00, 17.52\n",
      "161, 32.65, 39.49, 37.12, 30.20, 17.71\n",
      "162, 25.02, 39.63, 35.26, 30.37, 17.59\n",
      "163, 25.97, 37.57, 35.04, 30.53, 17.48\n",
      "164, 28.69, 39.43, 36.25, 30.69, 17.53\n",
      "165, 30.66, 39.64, 36.21, 30.85, 17.39\n",
      "166, 30.38, 39.47, 36.66, 31.03, 17.53\n",
      "\n",
      "Solved in 166 episodes!\tAvg Score: 31.03, time: 2829.3051903247833\n",
      "Agent 1 average: 30.92 \n",
      "Agent 2 average: 31.59 \n",
      "Agent 3 average: 31.73 \n",
      "Agent 4 average: 31.03 \n",
      "Agent 5 average: 30.52 \n",
      "Agent 6 average: 31.17 \n",
      "Agent 7 average: 31.70 \n",
      "Agent 8 average: 30.96 \n",
      "Agent 9 average: 30.93 \n",
      "Agent 10 average: 30.56 \n",
      "Agent 11 average: 31.01 \n",
      "Agent 12 average: 30.85 \n",
      "Agent 13 average: 31.57 \n",
      "Agent 14 average: 30.83 \n",
      "Agent 15 average: 30.92 \n",
      "Agent 16 average: 30.62 \n",
      "Agent 17 average: 30.15 \n",
      "Agent 18 average: 30.71 \n",
      "Agent 19 average: 31.66 \n",
      "Agent 20 average: 31.07 \n",
      "End time:  2019-08-12 21:57:19.940336\n"
     ]
    }
   ],
   "source": [
    "scores = ddpg()"
   ]
  },
  {
   "cell_type": "code",
   "execution_count": 13,
   "metadata": {},
   "outputs": [],
   "source": [
    "env.close()"
   ]
  },
  {
   "cell_type": "markdown",
   "metadata": {},
   "source": [
    "#### 6. Visualizing rewards accross 20 workers"
   ]
  },
  {
   "cell_type": "code",
   "execution_count": 29,
   "metadata": {},
   "outputs": [
    {
     "name": "stderr",
     "output_type": "stream",
     "text": [
      "WARNING:matplotlib.legend:No handles with labels found to put in legend.\n"
     ]
    },
    {
     "data": {
      "text/plain": [
       "<matplotlib.legend.Legend at 0x267ac514c18>"
      ]
     },
     "execution_count": 29,
     "metadata": {},
     "output_type": "execute_result"
    },
    {
     "data": {
      "image/png": "[encoded data removed]",
      "text/plain": [
       "<Figure size 432x288 with 1 Axes>"
      ]
     },
     "metadata": {
      "needs_background": "light"
     },
     "output_type": "display_data"
    }
   ],
   "source": [
    "plt.plot(np.arange(1, len(scores)+1), scores)\n",
    "plt.ylabel('Rewards')\n",
    "plt.xlabel('Episode #')"
   ]
  },
  {
   "cell_type": "markdown",
   "metadata": {},
   "source": [
    "### Improvements\n",
    "\n",
    "1. Batch normalization could be added to improve numerical stability.\n",
    "2. Sigma coefficient might be tuned for a faster convergence.\n",
    "3. Neural network might be tuned for a better performance. Too many layers and two many neurons lead to a slower convergence.\n",
    "\n",
    "DDPG looks for me very fragile. One step right or left and an implementation should be retuned."
   ]
  },
  {
   "cell_type": "code",
   "execution_count": null,
   "metadata": {},
   "outputs": [],
   "source": []
  }
 ],
 "metadata": {
  "kernelspec": {
   "display_name": "drlnd",
   "language": "python",
   "name": "drlnd"
  },
  "language_info": {
   "codemirror_mode": {
    "name": "ipython",
    "version": 3
   },
   "file_extension": ".py",
   "mimetype": "text/x-python",
   "name": "python",
   "nbconvert_exporter": "python",
   "pygments_lexer": "ipython3",
   "version": "3.6.9"
  }
 },
 "nbformat": 4,
 "nbformat_minor": 2
}
